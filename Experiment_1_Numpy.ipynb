{
  "nbformat": 4,
  "nbformat_minor": 0,
  "metadata": {
    "colab": {
      "name": "Experiment  : 1 - Numpy.ipynb",
      "provenance": [],
      "collapsed_sections": [],
      "authorship_tag": "ABX9TyO0CW1l92874LFt3RvIUFh9",
      "include_colab_link": true
    },
    "kernelspec": {
      "name": "python3",
      "display_name": "Python 3"
    }
  },
  "cells": [
    {
      "cell_type": "markdown",
      "metadata": {
        "id": "view-in-github",
        "colab_type": "text"
      },
      "source": [
        "<a href=\"https://colab.research.google.com/github/pulavarthilakshmimeherrishitha/AI-Lab/blob/master/Experiment_1_Numpy.ipynb\" target=\"_parent\"><img src=\"https://colab.research.google.com/assets/colab-badge.svg\" alt=\"Open In Colab\"/></a>"
      ]
    },
    {
      "cell_type": "markdown",
      "metadata": {
        "id": "5kTKElD9fCFg",
        "colab_type": "text"
      },
      "source": [
        "###Experiment no:1 - Numpy\n",
        "###(i) Different ways to create Numpy arrays."
      ]
    },
    {
      "cell_type": "markdown",
      "metadata": {
        "id": "OVzNQUR4zjfW",
        "colab_type": "text"
      },
      "source": [
        " (a)Creating Numpy arrays using list"
      ]
    },
    {
      "cell_type": "code",
      "metadata": {
        "id": "MebkouGtgL_6",
        "colab_type": "code",
        "colab": {
          "base_uri": "https://localhost:8080/",
          "height": 34
        },
        "outputId": "ea5d9bfe-eb90-4ad8-b5f3-0e97e213fbcd"
      },
      "source": [
        "import numpy as np\n",
        "r = np.array([23,56,73,100])\n",
        "r"
      ],
      "execution_count": null,
      "outputs": [
        {
          "output_type": "execute_result",
          "data": {
            "text/plain": [
              "array([ 23,  56,  73, 100])"
            ]
          },
          "metadata": {
            "tags": []
          },
          "execution_count": 1
        }
      ]
    },
    {
      "cell_type": "code",
      "metadata": {
        "id": "tZK3lWYmgiyE",
        "colab_type": "code",
        "colab": {
          "base_uri": "https://localhost:8080/",
          "height": 51
        },
        "outputId": "eec1e9a9-38ee-4d32-c633-ed9ee8a7f1eb"
      },
      "source": [
        "r = np.array([[65,78,59],[78,56,93]])\n",
        "r"
      ],
      "execution_count": null,
      "outputs": [
        {
          "output_type": "execute_result",
          "data": {
            "text/plain": [
              "array([[65, 78, 59],\n",
              "       [78, 56, 93]])"
            ]
          },
          "metadata": {
            "tags": []
          },
          "execution_count": 2
        }
      ]
    },
    {
      "cell_type": "markdown",
      "metadata": {
        "id": "rCUymoI1jvMC",
        "colab_type": "text"
      },
      "source": [
        "(b)Creating numpy arrays using arange"
      ]
    },
    {
      "cell_type": "code",
      "metadata": {
        "id": "E_v_RijLotBG",
        "colab_type": "code",
        "colab": {
          "base_uri": "https://localhost:8080/",
          "height": 54
        },
        "outputId": "8a3f0f42-0bd0-4f5d-f32e-b4a61bcd7e50"
      },
      "source": [
        "r = np.arange(44,66,2)\n",
        "r"
      ],
      "execution_count": null,
      "outputs": [
        {
          "output_type": "execute_result",
          "data": {
            "text/plain": [
              "array([44, 46, 48, 50, 52, 54, 56, 58, 60, 62, 64])"
            ]
          },
          "metadata": {
            "tags": []
          },
          "execution_count": 3
        }
      ]
    },
    {
      "cell_type": "code",
      "metadata": {
        "id": "qyN1vkNqo_83",
        "colab_type": "code",
        "colab": {
          "base_uri": "https://localhost:8080/",
          "height": 71
        },
        "outputId": "792f8536-7868-4718-c26c-e8512c900894"
      },
      "source": [
        "r = np.arange(26)\n",
        "r"
      ],
      "execution_count": null,
      "outputs": [
        {
          "output_type": "execute_result",
          "data": {
            "text/plain": [
              "array([ 0,  1,  2,  3,  4,  5,  6,  7,  8,  9, 10, 11, 12, 13, 14, 15, 16,\n",
              "       17, 18, 19, 20, 21, 22, 23, 24, 25])"
            ]
          },
          "metadata": {
            "tags": []
          },
          "execution_count": 4
        }
      ]
    },
    {
      "cell_type": "markdown",
      "metadata": {
        "id": "ek9qhsCZsW29",
        "colab_type": "text"
      },
      "source": [
        "### (ii) Add,remove,modify elements in an array"
      ]
    },
    {
      "cell_type": "markdown",
      "metadata": {
        "id": "2q14cm0qv0N8",
        "colab_type": "text"
      },
      "source": [
        "(a) Add:"
      ]
    },
    {
      "cell_type": "code",
      "metadata": {
        "id": "zY6UTSVzseru",
        "colab_type": "code",
        "colab": {
          "base_uri": "https://localhost:8080/",
          "height": 54
        },
        "outputId": "0e8f288d-16b4-4722-ccf4-44345fe0521c"
      },
      "source": [
        "import numpy as np\n",
        "r = np.array([65,44,89,45])\n",
        "p = np.append(r,[66,93,108])\n",
        "p"
      ],
      "execution_count": null,
      "outputs": [
        {
          "output_type": "execute_result",
          "data": {
            "text/plain": [
              "array([ 65,  44,  89,  45,  66,  93, 108])"
            ]
          },
          "metadata": {
            "tags": []
          },
          "execution_count": 5
        }
      ]
    },
    {
      "cell_type": "markdown",
      "metadata": {
        "id": "lqrRktRuwVgs",
        "colab_type": "text"
      },
      "source": [
        "(b) Remove:"
      ]
    },
    {
      "cell_type": "code",
      "metadata": {
        "id": "oVN7iP_iuyc1",
        "colab_type": "code",
        "colab": {
          "base_uri": "https://localhost:8080/",
          "height": 34
        },
        "outputId": "b52d15ba-ca3f-422b-f76e-a5c03a71b1c3"
      },
      "source": [
        "r = np.array([64,108,99,25])\n",
        "r = np.delete(r,2)\n",
        "r"
      ],
      "execution_count": null,
      "outputs": [
        {
          "output_type": "execute_result",
          "data": {
            "text/plain": [
              "array([ 64, 108,  25])"
            ]
          },
          "metadata": {
            "tags": []
          },
          "execution_count": 6
        }
      ]
    },
    {
      "cell_type": "markdown",
      "metadata": {
        "id": "KNcHYfMQwcKC",
        "colab_type": "text"
      },
      "source": [
        "(c) Modify:"
      ]
    },
    {
      "cell_type": "code",
      "metadata": {
        "id": "vyGsLcMMvUaV",
        "colab_type": "code",
        "colab": {
          "base_uri": "https://localhost:8080/",
          "height": 34
        },
        "outputId": "95e303fe-3379-4a0e-9d6e-8dbd1a00f847"
      },
      "source": [
        "r = np.array([66,52,98,16])\n",
        "r[3] = 65\n",
        "r"
      ],
      "execution_count": null,
      "outputs": [
        {
          "output_type": "execute_result",
          "data": {
            "text/plain": [
              "array([66, 52, 98, 65])"
            ]
          },
          "metadata": {
            "tags": []
          },
          "execution_count": 7
        }
      ]
    },
    {
      "cell_type": "markdown",
      "metadata": {
        "id": "AYzoD6HikNym",
        "colab_type": "text"
      },
      "source": [
        "###(iii)Arithematic operations of Numpy array"
      ]
    },
    {
      "cell_type": "code",
      "metadata": {
        "id": "2wINDBubvjet",
        "colab_type": "code",
        "colab": {
          "base_uri": "https://localhost:8080/",
          "height": 51
        },
        "outputId": "a465a7c1-22b9-43c6-cc5d-5a81d483a395"
      },
      "source": [
        " a = np.array( [34,67,89,65,44] )\n",
        "b = np.arange( 5 )\n",
        "print(a)\n",
        "print(b)"
      ],
      "execution_count": null,
      "outputs": [
        {
          "output_type": "stream",
          "text": [
            "[34 67 89 65 44]\n",
            "[0 1 2 3 4]\n"
          ],
          "name": "stdout"
        }
      ]
    },
    {
      "cell_type": "code",
      "metadata": {
        "id": "rQ38XH1lx4Ei",
        "colab_type": "code",
        "colab": {
          "base_uri": "https://localhost:8080/",
          "height": 34
        },
        "outputId": "b5be9310-0dce-4db3-f2ff-82e79ecc0cc9"
      },
      "source": [
        "r = a+b\n",
        "print(r)"
      ],
      "execution_count": null,
      "outputs": [
        {
          "output_type": "stream",
          "text": [
            "[34 68 91 68 48]\n"
          ],
          "name": "stdout"
        }
      ]
    },
    {
      "cell_type": "code",
      "metadata": {
        "id": "YVyGFQ6fwhMJ",
        "colab_type": "code",
        "colab": {
          "base_uri": "https://localhost:8080/",
          "height": 34
        },
        "outputId": "715356a4-bbbc-4120-90f0-2fab91907d48"
      },
      "source": [
        "r = a-b\n",
        "print(r)"
      ],
      "execution_count": null,
      "outputs": [
        {
          "output_type": "stream",
          "text": [
            "[34 66 87 62 40]\n"
          ],
          "name": "stdout"
        }
      ]
    },
    {
      "cell_type": "code",
      "metadata": {
        "id": "O-XC1SAEyDQ1",
        "colab_type": "code",
        "colab": {
          "base_uri": "https://localhost:8080/",
          "height": 34
        },
        "outputId": "877f9434-71fc-4754-d436-99d9447d4258"
      },
      "source": [
        "r = a*b\n",
        "print(r)"
      ],
      "execution_count": null,
      "outputs": [
        {
          "output_type": "stream",
          "text": [
            "[  0  67 178 195 176]\n"
          ],
          "name": "stdout"
        }
      ]
    },
    {
      "cell_type": "code",
      "metadata": {
        "id": "oBh9m0m7yIdS",
        "colab_type": "code",
        "colab": {
          "base_uri": "https://localhost:8080/",
          "height": 54
        },
        "outputId": "c9e925b5-1e24-4ed2-986f-29f3473da80d"
      },
      "source": [
        "r = b/a\n",
        "print(r)"
      ],
      "execution_count": null,
      "outputs": [
        {
          "output_type": "stream",
          "text": [
            "[0.         0.01492537 0.02247191 0.04615385 0.09090909]\n"
          ],
          "name": "stdout"
        }
      ]
    },
    {
      "cell_type": "code",
      "metadata": {
        "id": "5QiBb3Bswolf",
        "colab_type": "code",
        "colab": {
          "base_uri": "https://localhost:8080/",
          "height": 54
        },
        "outputId": "56a7962c-29d3-4740-a1f1-0000686705eb"
      },
      "source": [
        "print(a**4)"
      ],
      "execution_count": null,
      "outputs": [
        {
          "output_type": "stream",
          "text": [
            "[ 1336336 20151121 62742241 17850625  3748096]\n"
          ],
          "name": "stdout"
        }
      ]
    },
    {
      "cell_type": "code",
      "metadata": {
        "id": "YgR0VlLkwzpt",
        "colab_type": "code",
        "colab": {
          "base_uri": "https://localhost:8080/",
          "height": 54
        },
        "outputId": "3736d359-ddd8-4189-dcb0-7be11b9b05d1"
      },
      "source": [
        "print(np.cos(b))"
      ],
      "execution_count": null,
      "outputs": [
        {
          "output_type": "stream",
          "text": [
            "[ 1.          0.54030231 -0.41614684 -0.9899925  -0.65364362]\n"
          ],
          "name": "stdout"
        }
      ]
    },
    {
      "cell_type": "code",
      "metadata": {
        "id": "61Z5jLSfxnYU",
        "colab_type": "code",
        "colab": {
          "base_uri": "https://localhost:8080/",
          "height": 34
        },
        "outputId": "7d32bdd8-c91b-4e3e-8409-58cdc978ed03"
      },
      "source": [
        "print(a>50)"
      ],
      "execution_count": null,
      "outputs": [
        {
          "output_type": "stream",
          "text": [
            "[False  True  True  True False]\n"
          ],
          "name": "stdout"
        }
      ]
    },
    {
      "cell_type": "markdown",
      "metadata": {
        "id": "J8y_yq6MyT_F",
        "colab_type": "text"
      },
      "source": [
        "###(iv) Slicing and iterating of Numpy arrays"
      ]
    },
    {
      "cell_type": "markdown",
      "metadata": {
        "id": "1qcWPJyw5uCC",
        "colab_type": "text"
      },
      "source": [
        " \n",
        "(a) Slicing :"
      ]
    },
    {
      "cell_type": "code",
      "metadata": {
        "id": "lWZzvEs4ywoe",
        "colab_type": "code",
        "colab": {
          "base_uri": "https://localhost:8080/",
          "height": 34
        },
        "outputId": "39d25e41-5c72-415a-93c1-82e7e8a78e27"
      },
      "source": [
        " a=np.arange(6)**3\n",
        "print(a)"
      ],
      "execution_count": null,
      "outputs": [
        {
          "output_type": "stream",
          "text": [
            "[  0   1   8  27  64 125]\n"
          ],
          "name": "stdout"
        }
      ]
    },
    {
      "cell_type": "code",
      "metadata": {
        "id": "cGnGLUZazMfs",
        "colab_type": "code",
        "colab": {
          "base_uri": "https://localhost:8080/",
          "height": 51
        },
        "outputId": "18513e24-d555-475b-9e2f-c7e5639a1247"
      },
      "source": [
        " print(a[5])\n",
        "print(a[4:5])"
      ],
      "execution_count": null,
      "outputs": [
        {
          "output_type": "stream",
          "text": [
            "125\n",
            "[64]\n"
          ],
          "name": "stdout"
        }
      ]
    },
    {
      "cell_type": "code",
      "metadata": {
        "id": "CATpLHUb0OtJ",
        "colab_type": "code",
        "colab": {
          "base_uri": "https://localhost:8080/",
          "height": 102
        },
        "outputId": "be508d8c-5b05-461a-8032-52fe656ad62b"
      },
      "source": [
        "a=np.arange(15).reshape(5,3)**3\n",
        "print(a)"
      ],
      "execution_count": null,
      "outputs": [
        {
          "output_type": "stream",
          "text": [
            "[[   0    1    8]\n",
            " [  27   64  125]\n",
            " [ 216  343  512]\n",
            " [ 729 1000 1331]\n",
            " [1728 2197 2744]]\n"
          ],
          "name": "stdout"
        }
      ]
    },
    {
      "cell_type": "code",
      "metadata": {
        "id": "73e08ycX01Wt",
        "colab_type": "code",
        "colab": {
          "base_uri": "https://localhost:8080/",
          "height": 153
        },
        "outputId": "838a684b-4ad0-480c-f5ce-d387c6962af8"
      },
      "source": [
        " print(a[2:5]) \n",
        "print(a[2:3,4:5]) \n",
        "print(a[4,])\n",
        "print(a[:3,:2])"
      ],
      "execution_count": null,
      "outputs": [
        {
          "output_type": "stream",
          "text": [
            "[[ 216  343  512]\n",
            " [ 729 1000 1331]\n",
            " [1728 2197 2744]]\n",
            "[]\n",
            "[1728 2197 2744]\n",
            "[[  0   1]\n",
            " [ 27  64]\n",
            " [216 343]]\n"
          ],
          "name": "stdout"
        }
      ]
    },
    {
      "cell_type": "markdown",
      "metadata": {
        "id": "XE7gw2Nv1-ix",
        "colab_type": "text"
      },
      "source": [
        "###Slicing using negative index"
      ]
    },
    {
      "cell_type": "code",
      "metadata": {
        "id": "9GFDST061nnp",
        "colab_type": "code",
        "colab": {
          "base_uri": "https://localhost:8080/",
          "height": 68
        },
        "outputId": "17c051c5-ee3b-40ba-aaa6-8a535d330c08"
      },
      "source": [
        "a=np.arange(15)\n",
        "print(a[-4]) \n",
        "print(a[-4:-1]) \n",
        "print(a[-5:-2])"
      ],
      "execution_count": null,
      "outputs": [
        {
          "output_type": "stream",
          "text": [
            "11\n",
            "[11 12 13]\n",
            "[10 11 12]\n"
          ],
          "name": "stdout"
        }
      ]
    },
    {
      "cell_type": "code",
      "metadata": {
        "id": "DDPRG2bm2NUY",
        "colab_type": "code",
        "colab": {
          "base_uri": "https://localhost:8080/",
          "height": 88
        },
        "outputId": "171ba984-e231-4ee5-86c7-2ccc5d6b4ce1"
      },
      "source": [
        "a=np.arange(15).reshape(3,5)**3\n",
        "a"
      ],
      "execution_count": null,
      "outputs": [
        {
          "output_type": "execute_result",
          "data": {
            "text/plain": [
              "array([[   0,    1,    8,   27,   64],\n",
              "       [ 125,  216,  343,  512,  729],\n",
              "       [1000, 1331, 1728, 2197, 2744]])"
            ]
          },
          "metadata": {
            "tags": []
          },
          "execution_count": 21
        }
      ]
    },
    {
      "cell_type": "code",
      "metadata": {
        "id": "yWwPZ0cT2gZ9",
        "colab_type": "code",
        "colab": {
          "base_uri": "https://localhost:8080/",
          "height": 85
        },
        "outputId": "a316f5c2-bd2c-453d-f461-01bfece2dc8d"
      },
      "source": [
        " print(a[-2,]) \n",
        "print(a[-2,-3]) \n",
        "print(a[-3:-1,-2:-1])"
      ],
      "execution_count": null,
      "outputs": [
        {
          "output_type": "stream",
          "text": [
            "[125 216 343 512 729]\n",
            "343\n",
            "[[ 27]\n",
            " [512]]\n"
          ],
          "name": "stdout"
        }
      ]
    },
    {
      "cell_type": "markdown",
      "metadata": {
        "id": "tEHWhs3Y50st",
        "colab_type": "text"
      },
      "source": [
        "(b)Iterating :"
      ]
    },
    {
      "cell_type": "code",
      "metadata": {
        "id": "FS4EaE27527g",
        "colab_type": "code",
        "colab": {
          "base_uri": "https://localhost:8080/",
          "height": 187
        },
        "outputId": "fa3ac943-2b23-4bc9-d18f-a08a4753f46f"
      },
      "source": [
        " \n",
        "a=np.arange(15).reshape(5,3)**3 \n",
        "print(a)\n",
        "for i in a:\n",
        "    print(i)"
      ],
      "execution_count": null,
      "outputs": [
        {
          "output_type": "stream",
          "text": [
            "[[   0    1    8]\n",
            " [  27   64  125]\n",
            " [ 216  343  512]\n",
            " [ 729 1000 1331]\n",
            " [1728 2197 2744]]\n",
            "[0 1 8]\n",
            "[ 27  64 125]\n",
            "[216 343 512]\n",
            "[ 729 1000 1331]\n",
            "[1728 2197 2744]\n"
          ],
          "name": "stdout"
        }
      ]
    },
    {
      "cell_type": "code",
      "metadata": {
        "id": "VsG6B2Ii6I2S",
        "colab_type": "code",
        "colab": {
          "base_uri": "https://localhost:8080/",
          "height": 272
        },
        "outputId": "2dbe7fc5-7997-4f77-980f-336facd1e73a"
      },
      "source": [
        " for i in a.flat:\n",
        "    print(i)"
      ],
      "execution_count": null,
      "outputs": [
        {
          "output_type": "stream",
          "text": [
            "0\n",
            "1\n",
            "8\n",
            "27\n",
            "64\n",
            "125\n",
            "216\n",
            "343\n",
            "512\n",
            "729\n",
            "1000\n",
            "1331\n",
            "1728\n",
            "2197\n",
            "2744\n"
          ],
          "name": "stdout"
        }
      ]
    },
    {
      "cell_type": "markdown",
      "metadata": {
        "id": "5dkEx2s86X5F",
        "colab_type": "text"
      },
      "source": [
        "###(v) Matrix operations on Numpy arrays"
      ]
    },
    {
      "cell_type": "code",
      "metadata": {
        "id": "5fKhWyQG8rQt",
        "colab_type": "code",
        "colab": {
          "base_uri": "https://localhost:8080/",
          "height": 153
        },
        "outputId": "65abd047-a3ba-458b-a87a-66e1da2234dc"
      },
      "source": [
        " \n",
        "import numpy as np\n",
        "p = np.array([[5,6],[4,5]])\n",
        "q = np.array([[6,3],[3,6]])\n",
        "print(p+q)\n",
        "print(p-q)\n",
        "print(p@q)\n",
        "print(p/q)"
      ],
      "execution_count": null,
      "outputs": [
        {
          "output_type": "stream",
          "text": [
            "[[11  9]\n",
            " [ 7 11]]\n",
            "[[-1  3]\n",
            " [ 1 -1]]\n",
            "[[48 51]\n",
            " [39 42]]\n",
            "[[0.83333333 2.        ]\n",
            " [1.33333333 0.83333333]]\n"
          ],
          "name": "stdout"
        }
      ]
    }
  ]
}